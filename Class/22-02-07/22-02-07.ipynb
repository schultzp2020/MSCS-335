{
 "cells": [
  {
   "cell_type": "code",
   "execution_count": 1,
   "metadata": {},
   "outputs": [],
   "source": [
    "import pandas as pd\n",
    "from sklearn.model_selection import train_test_split, cross_val_score\n",
    "from sklearn.tree import DecisionTreeRegressor "
   ]
  },
  {
   "cell_type": "code",
   "execution_count": 2,
   "metadata": {},
   "outputs": [],
   "source": [
    "df = pd.read_csv('https://statlearning.com/s/Advertising.csv', index_col=0)\n",
    "X = df.drop(columns=['sales'])\n",
    "Y = df['sales']"
   ]
  },
  {
   "cell_type": "code",
   "execution_count": 28,
   "metadata": {},
   "outputs": [
    {
     "name": "stdout",
     "output_type": "stream",
     "text": [
      "cross validation score\n",
      "depth 1: 0.3535 < p < 0.5076\n",
      "depth 2: 0.7062 < p < 0.8403\n",
      "depth 3: 0.8278 < p < 0.8786\n",
      "depth 4: 0.8872 < p < 0.9204\n",
      "depth 5: 0.905 < p < 0.9489\n",
      "depth 6: 0.9126 < p < 0.955\n",
      "depth 7: 0.9194 < p < 0.9658\n",
      "depth 8: 0.919 < p < 0.963\n",
      "depth 9: 0.9244 < p < 0.9641\n",
      "depth 10: 0.9351 < p < 0.9681\n",
      "depth 11: 0.9342 < p < 0.9529\n",
      "depth 12: 0.9232 < p < 0.9574\n",
      "depth 13: 0.9218 < p < 0.9643\n",
      "depth 14: 0.9252 < p < 0.9531\n",
      "depth 15: 0.9199 < p < 0.9651\n",
      "depth 16: 0.9327 < p < 0.9562\n",
      "depth 17: 0.9179 < p < 0.9648\n",
      "depth 18: 0.9223 < p < 0.96\n",
      "depth 19: 0.921 < p < 0.9567\n",
      "depth 20: 0.9324 < p < 0.9601\n"
     ]
    }
   ],
   "source": [
    "\n",
    "X_train, X_test, Y_train, Y_test = train_test_split(X, Y, test_size=0.2)\n",
    "print('cross validation score')\n",
    "for i in range(1, 21):\n",
    "  m = DecisionTreeRegressor(max_depth=i)\n",
    "  cvs = cross_val_score(m, X_train, Y_train, cv=5)\n",
    "  print(f'depth {i}: {round(cvs.mean() - cvs.std(), 4)} < p < {round(cvs.mean() + cvs.std(), 4)}')"
   ]
  },
  {
   "cell_type": "code",
   "execution_count": 26,
   "metadata": {},
   "outputs": [
    {
     "name": "stdout",
     "output_type": "stream",
     "text": [
      "train_score=0.9944030516586208\n",
      "test_score=0.9261111527915533\n"
     ]
    }
   ],
   "source": [
    "m = DecisionTreeRegressor(max_depth=6)\n",
    "m.fit(X_train, Y_train)\n",
    "train_score = m.score(X_train, Y_train)\n",
    "test_score = m.score(X_test, Y_test)\n",
    "\n",
    "\n",
    "print(f'{train_score=}')\n",
    "print(f'{test_score=}')"
   ]
  },
  {
   "cell_type": "code",
   "execution_count": null,
   "metadata": {},
   "outputs": [],
   "source": []
  }
 ],
 "metadata": {
  "interpreter": {
   "hash": "8a7cea5f4d06b4da4fdb6f48310548cb243399064ce9faef36a0ecdde5173896"
  },
  "kernelspec": {
   "display_name": "Python 3.9.7 64-bit ('MSCS-basic': conda)",
   "language": "python",
   "name": "python3"
  },
  "language_info": {
   "codemirror_mode": {
    "name": "ipython",
    "version": 3
   },
   "file_extension": ".py",
   "mimetype": "text/x-python",
   "name": "python",
   "nbconvert_exporter": "python",
   "pygments_lexer": "ipython3",
   "version": "3.9.7"
  },
  "orig_nbformat": 4
 },
 "nbformat": 4,
 "nbformat_minor": 2
}
