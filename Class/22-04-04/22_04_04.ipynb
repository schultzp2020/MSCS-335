{
  "cells": [
    {
      "cell_type": "code",
      "execution_count": 1,
      "metadata": {
        "id": "KdXN_UFYJgW6"
      },
      "outputs": [],
      "source": [
        "import torch\n",
        "import re\n",
        "from sklearn.preprocessing import LabelBinarizer\n",
        "import matplotlib.pyplot as plt"
      ]
    },
    {
      "cell_type": "code",
      "execution_count": 2,
      "metadata": {
        "colab": {
          "base_uri": "https://localhost:8080/"
        },
        "id": "Xpn26HF7JofK",
        "outputId": "ce13bb28-1e72-4527-c936-65fb449b38c3"
      },
      "outputs": [
        {
          "name": "stdout",
          "output_type": "stream",
          "text": [
            "True cuda\n"
          ]
        }
      ],
      "source": [
        "dev = torch.device('cpu')\n",
        "if torch.has_cuda:\n",
        "  dev = torch.device('cuda')\n",
        "print(torch.has_cuda, dev)"
      ]
    },
    {
      "cell_type": "code",
      "execution_count": 3,
      "metadata": {
        "colab": {
          "base_uri": "https://localhost:8080/"
        },
        "id": "QYMOKD6_J4b4",
        "outputId": "489e0585-0a23-4d28-d17e-96b79ea08a72"
      },
      "outputs": [],
      "source": [
        "# !wget http://www.curieux.us/simple.txt\n",
        "train = open('simple.txt').read()\n",
        "train = re.sub(r'\\s+', ' ', train)"
      ]
    },
    {
      "cell_type": "code",
      "execution_count": 4,
      "metadata": {
        "colab": {
          "base_uri": "https://localhost:8080/"
        },
        "id": "F2pqnw63LUm1",
        "outputId": "e136b137-d19b-4edf-df6e-aff816e420c5"
      },
      "outputs": [
        {
          "data": {
            "text/plain": [
              "LabelBinarizer()"
            ]
          },
          "execution_count": 4,
          "metadata": {},
          "output_type": "execute_result"
        }
      ],
      "source": [
        "label_binarizer = LabelBinarizer()\n",
        "label_binarizer.fit(list(train))"
      ]
    },
    {
      "cell_type": "code",
      "execution_count": 5,
      "metadata": {
        "colab": {
          "base_uri": "https://localhost:8080/"
        },
        "id": "7TWG3HgqLeUC",
        "outputId": "14f52bb3-9a56-4118-df6d-07721a52c1a4"
      },
      "outputs": [
        {
          "name": "stdout",
          "output_type": "stream",
          "text": [
            "We have 22 classes in 1103 input data\n"
          ]
        }
      ],
      "source": [
        "S = len(label_binarizer.classes_)\n",
        "print(f'We have {S} classes in {len(train)} input data')"
      ]
    },
    {
      "cell_type": "code",
      "execution_count": 6,
      "metadata": {
        "id": "aUAsGv2zLnOS"
      },
      "outputs": [],
      "source": [
        "class MyRNN0(torch.nn.Module):\n",
        "  def __init__(self, input_size, hidden_size, output_size):\n",
        "    super(MyRNN0, self).__init__()\n",
        "    self.layer1 = torch.nn.RNNCell(input_size, hidden_size)\n",
        "    self.layer2 = torch.nn.Linear(hidden_size, output_size)\n",
        "\n",
        "  def forward(self, input, hidden):\n",
        "    hidden2 = self.layer1(input, hidden)\n",
        "    output = self.layer2(hidden2)\n",
        "    return output, hidden"
      ]
    },
    {
      "cell_type": "code",
      "execution_count": 7,
      "metadata": {
        "id": "8x5gKjbSM5Eg"
      },
      "outputs": [],
      "source": [
        "batch_size = 25 # number of instances to \"unroll\" before resetting history\n",
        "num_hidden = 50 #\n",
        "\n",
        "my_nn = MyRNN0(S, num_hidden, S)\n",
        "my_nn.to(dev)\n",
        "optimizer = torch.optim.SGD(params=my_nn.parameters(), lr=0.1)\n",
        "loss_fn = torch.nn.CrossEntropyLoss()"
      ]
    },
    {
      "cell_type": "code",
      "execution_count": 8,
      "metadata": {
        "id": "po6nD1s7Nc39"
      },
      "outputs": [],
      "source": [
        "batches = []\n",
        "for i in range(len(train) - batch_size - 1):\n",
        "  X_pre = label_binarizer.transform(list(train[i: i+batch_size]))\n",
        "  Y_pre = label_binarizer.transform(list(train[i+1: i+batch_size+1]))\n",
        "\n",
        "  X = torch.tensor(X_pre, device=dev, dtype=torch.float32).view(batch_size, 1, S)\n",
        "  Y = torch.tensor(Y_pre, device=dev, dtype=torch.float32).view(batch_size, 1, S)\n",
        "\n",
        "  batches.append((X, Y))"
      ]
    },
    {
      "cell_type": "code",
      "execution_count": 9,
      "metadata": {
        "id": "uFhI_4qmPYEG"
      },
      "outputs": [],
      "source": [
        "h0 = torch.zeros(1, num_hidden, device=dev)\n",
        "hidden = h0\n",
        "losses = []\n",
        "\n",
        "for X, Y in batches:\n",
        "  score = 0\n",
        "  for x, y in zip(X, Y):\n",
        "    optimizer.zero_grad() # clear previous gradients\n",
        "    output, hidden = my_nn(x, hidden)\n",
        "    target = torch.argmax(y, 1)\n",
        "    loss = loss_fn(output, target)\n",
        "    score += loss.item()\n",
        "    loss.backward(retain_graph=True)\n",
        "    optimizer.step()\n",
        "  losses.append(score)"
      ]
    },
    {
      "cell_type": "code",
      "execution_count": 10,
      "metadata": {
        "colab": {
          "base_uri": "https://localhost:8080/",
          "height": 265
        },
        "id": "FuoIYJXVPpca",
        "outputId": "ced98ad4-b992-4d0d-946a-52f3f6982a4f"
      },
      "outputs": [
        {
          "data": {
            "image/png": "[encoded data removed]",
            "text/plain": [
              "<Figure size 432x288 with 1 Axes>"
            ]
          },
          "metadata": {
            "needs_background": "light"
          },
          "output_type": "display_data"
        }
      ],
      "source": [
        "fig, ax = plt.subplots(1)\n",
        "ax.plot(range(len(batches)), losses)\n",
        "plt.show()"
      ]
    },
    {
      "cell_type": "code",
      "execution_count": 11,
      "metadata": {
        "colab": {
          "base_uri": "https://localhost:8080/"
        },
        "id": "gmVDoc6ARvp-",
        "outputId": "2bbfbe2a-aa98-4318-da2c-33bed6592a42"
      },
      "outputs": [
        {
          "name": "stdout",
          "output_type": "stream",
          "text": [
            "yo|g|\n",
            "yog|s|\n",
            "yogs| |\n",
            "yogs |c|\n",
            "yogs c|a|\n",
            "yogs ca|t|\n",
            "yogs cat|s|\n",
            "yogs cats| |\n",
            "yogs cats |c|\n",
            "yogs cats c|a|\n",
            "yogs cats ca|t|\n",
            "yogs cats cat|s|\n",
            "yogs cats cats| |\n",
            "yogs cats cats |c|\n",
            "yogs cats cats c|a|\n",
            "yogs cats cats ca|t|\n",
            "yogs cats cats cat|s|\n",
            "yogs cats cats cats| |\n",
            "yogs cats cats cats |c|\n",
            "yogs cats cats cats c|a|\n",
            "yogs cats cats cats ca|t|\n",
            "yogs cats cats cats cat|s|\n",
            "yogs cats cats cats cats| |\n",
            "yogs cats cats cats cats |c|\n",
            "yogs cats cats cats cats c|a|\n"
          ]
        }
      ],
      "source": [
        "s = 'yo'\n",
        "with torch.no_grad():\n",
        "  my_nn.eval()\n",
        "  for i in range(batch_size):\n",
        "    x = torch.tensor(label_binarizer.transform([s[-1]]), device=dev, dtype=torch.float32).view(1, S)\n",
        "    output, hidden2 = my_nn(x, hidden)\n",
        "    output = output.to('cpu')\n",
        "    y = label_binarizer.inverse_transform(output)[0]\n",
        "    print(f'{s}|{y}|')\n",
        "    s += y"
      ]
    },
    {
      "cell_type": "code",
      "execution_count": null,
      "metadata": {},
      "outputs": [],
      "source": []
    }
  ],
  "metadata": {
    "accelerator": "GPU",
    "colab": {
      "collapsed_sections": [],
      "name": "22-04-04.ipynb",
      "provenance": []
    },
    "kernelspec": {
      "display_name": "Python 3 (ipykernel)",
      "language": "python",
      "name": "python3"
    },
    "language_info": {
      "codemirror_mode": {
        "name": "ipython",
        "version": 3
      },
      "file_extension": ".py",
      "mimetype": "text/x-python",
      "name": "python",
      "nbconvert_exporter": "python",
      "pygments_lexer": "ipython3",
      "version": "3.8.5"
    }
  },
  "nbformat": 4,
  "nbformat_minor": 0
}
