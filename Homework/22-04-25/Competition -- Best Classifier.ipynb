{
 "cells": [
  {
   "cell_type": "code",
   "execution_count": 1,
   "id": "e845e170",
   "metadata": {},
   "outputs": [],
   "source": [
    "from tqdm import tqdm\n",
    "import torch\n",
    "import torch.nn as nn\n",
    "from torch.utils.data import Dataset, DataLoader\n",
    "import pandas as pd\n",
    "import numpy as np\n",
    "from sklearn.decomposition import PCA\n",
    "from sklearn.model_selection import train_test_split\n",
    "from sklearn.utils.class_weight import compute_class_weight\n",
    "from sklearn.preprocessing import LabelBinarizer\n",
    "import matplotlib.pyplot as plt"
   ]
  },
  {
   "cell_type": "code",
   "execution_count": 2,
   "id": "f5dd90a0",
   "metadata": {},
   "outputs": [],
   "source": [
    "def Net(input_dim, hidden_dims, output_dim, device):\n",
    "    model =  nn.Sequential(\n",
    "        nn.Linear(input_dim, hidden_dims[0]),\n",
    "        nn.Tanh(),\n",
    "        nn.Linear(hidden_dims[0], hidden_dims[1]),\n",
    "        nn.Tanh(),\n",
    "        nn.Linear(hidden_dims[1], hidden_dims[2]),\n",
    "        nn.Tanh(),\n",
    "        nn.Linear(hidden_dims[2], hidden_dims[3]),\n",
    "        nn.Tanh(),\n",
    "        nn.Linear(hidden_dims[3], hidden_dims[4]),\n",
    "        nn.ReLU(),\n",
    "        nn.Linear(hidden_dims[4], output_dim),\n",
    "    )\n",
    "    model.to(device)\n",
    "    return model"
   ]
  },
  {
   "cell_type": "code",
   "execution_count": 3,
   "id": "9e327240",
   "metadata": {},
   "outputs": [],
   "source": [
    "class CustomData(Dataset):\n",
    "    def __init__(self, X, Y, device, dtype=torch.float32):\n",
    "        self.X=torch.tensor(X, device=device, dtype=dtype)\n",
    "        self.Y=torch.tensor(Y, device=device, dtype=dtype)\n",
    "        self.len=self.X.shape[0]\n",
    "    def __getitem__(self,index):      \n",
    "        return self.X[index], self.Y[index]\n",
    "    def __len__(self):\n",
    "        return self.len\n",
    "\n",
    "def LoadCustomData(X, Y, device, pca_cutoff=0.1, dtype=torch.float32):\n",
    "    pca = PCA()\n",
    "    pca.fit(X)\n",
    "    count = 0\n",
    "    for s in pca.singular_values_:\n",
    "        if s/pca.singular_values_[0] > pca_cutoff:\n",
    "            count += 1\n",
    "    pca_trans = PCA(n_components=count)\n",
    "    pca_trans.fit(X)\n",
    "    X_trans = pca_trans.transform(X)\n",
    "\n",
    "\n",
    "    lb = LabelBinarizer()\n",
    "    Y = lb.fit_transform(Y)\n",
    "\n",
    "    X_train, X_test, Y_train, Y_test = train_test_split(X_trans, Y)\n",
    "\n",
    "    Y_train_inv = lb.inverse_transform(Y_train)\n",
    "\n",
    "    weight = torch.tensor(compute_class_weight('balanced', classes=np.unique(Y_train_inv), y=Y_train_inv), device=device, dtype=torch.float32)\n",
    "    \n",
    "    train_data = CustomData(X_train, Y_train, device, dtype)\n",
    "    test_data = CustomData(X_test, Y_test, device, dtype)\n",
    "\n",
    "    return train_data, test_data, weight, lb"
   ]
  },
  {
   "cell_type": "code",
   "execution_count": 4,
   "id": "8681d1d1",
   "metadata": {},
   "outputs": [],
   "source": [
    "def score(model, loader):\n",
    "  model.eval()\n",
    "  with torch.no_grad():\n",
    "    correct = 0\n",
    "    total = 0\n",
    "    for x, y in loader:\n",
    "      outputs = model(x)\n",
    "      _, predicted = torch.max(outputs.data, 1)\n",
    "      _, expected = torch.max(y, 1)\n",
    "\n",
    "      total += y.size(0)\n",
    "\n",
    "      correct += (predicted == expected).sum()\n",
    "  accuracy = 100 * correct / total\n",
    "  return accuracy.item()"
   ]
  },
  {
   "cell_type": "code",
   "execution_count": 5,
   "id": "27384033",
   "metadata": {},
   "outputs": [],
   "source": [
    "device = torch.device(\"cuda:0\" if torch.cuda.is_available() else \"cpu\")"
   ]
  },
  {
   "cell_type": "code",
   "execution_count": 6,
   "id": "9bf7676e",
   "metadata": {},
   "outputs": [],
   "source": [
    "df = pd.read_csv('class_train_set.csv', index_col=0)"
   ]
  },
  {
   "cell_type": "code",
   "execution_count": 7,
   "id": "abef73b0",
   "metadata": {},
   "outputs": [],
   "source": [
    "X = df.drop(columns=['Y'])\n",
    "Y = df['Y'].apply(lambda x: x-1)"
   ]
  },
  {
   "cell_type": "code",
   "execution_count": 16,
   "id": "35791118",
   "metadata": {},
   "outputs": [],
   "source": [
    "n_epochs = 10\n",
    "batch_size = 512\n",
    "train_data, test_data, weight, lb = LoadCustomData(X.to_numpy(), Y.to_numpy(), device)\n",
    "train_loader = DataLoader(train_data, batch_size)\n",
    "test_loader = DataLoader(test_data, batch_size)"
   ]
  },
  {
   "cell_type": "code",
   "execution_count": 9,
   "id": "0f10f013",
   "metadata": {},
   "outputs": [],
   "source": [
    "input_dim = train_data.X.shape[1]\n",
    "hidden_dim = [25000, 100, 25000, 100, 25000]\n",
    "output_dim = train_data.Y.shape[1]\n",
    "model = Net(input_dim, hidden_dim, output_dim, device)\n",
    "loss_fn = nn.BCEWithLogitsLoss(weight=weight)\n",
    "optimizer = torch.optim.SGD(model.parameters(), lr=1e-2)"
   ]
  },
  {
   "cell_type": "code",
   "execution_count": 10,
   "id": "a13eba61",
   "metadata": {},
   "outputs": [
    {
     "name": "stderr",
     "output_type": "stream",
     "text": [
      "100%|██████████| 10/10 [01:31<00:00,  9.11s/it]\n"
     ]
    }
   ],
   "source": [
    "losses = []\n",
    "\n",
    "model.train()\n",
    "for epoch in tqdm(range(n_epochs)):\n",
    "    for x, y in train_loader:\n",
    "        optimizer.zero_grad()\n",
    "\n",
    "        outputs = model.forward(x)\n",
    "        loss = loss_fn(outputs, y)\n",
    "\n",
    "        losses.append(loss.item())\n",
    "        loss.backward(retain_graph=True)\n",
    "        optimizer.step()\n",
    "    if loss.item() < 0.1:\n",
    "        break"
   ]
  },
  {
   "cell_type": "code",
   "execution_count": 18,
   "id": "7c053fda",
   "metadata": {},
   "outputs": [
    {
     "name": "stdout",
     "output_type": "stream",
     "text": [
      "train_accuracy=69.52207946777344, test_accuracy=69.55126953125, difference=0.0291900634765625\n"
     ]
    }
   ],
   "source": [
    "train_accuracy = score(model, train_loader)\n",
    "test_accuracy = score(model, test_loader)\n",
    "difference = np.abs(train_accuracy - test_accuracy)\n",
    "print(f'{train_accuracy=}, {test_accuracy=}, {difference=}')"
   ]
  },
  {
   "cell_type": "code",
   "execution_count": 13,
   "id": "0a01db7b",
   "metadata": {},
   "outputs": [
    {
     "data": {
      "image/png": "[encoded data removed]",
      "text/plain": [
       "<Figure size 432x288 with 2 Axes>"
      ]
     },
     "metadata": {
      "needs_background": "light"
     },
     "output_type": "display_data"
    }
   ],
   "source": [
    "best_fit_cutoff = -1000\n",
    "fig, ax = plt.subplots(2)\n",
    "x = range(len(losses))\n",
    "ax[0].plot(x, losses)\n",
    "x_cutoff = x[best_fit_cutoff:]\n",
    "losses_cutoff = losses[best_fit_cutoff:]\n",
    "ax[1].plot(x_cutoff, losses_cutoff)\n",
    "best_fit = np.polyfit(x_cutoff, losses_cutoff, 1)\n",
    "ax[1].plot(x_cutoff, x_cutoff*best_fit[0] + best_fit[1])\n",
    "plt.show()"
   ]
  },
  {
   "cell_type": "code",
   "execution_count": null,
   "id": "538722d1",
   "metadata": {},
   "outputs": [],
   "source": []
  }
 ],
 "metadata": {
  "interpreter": {
   "hash": "64a7aae25fb3ddbc46a15c3a52c5f7ea4740365f1db9d650e70fbe038184f1ca"
  },
  "kernelspec": {
   "display_name": "mscs",
   "language": "python",
   "name": "python3"
  },
  "language_info": {
   "codemirror_mode": {
    "name": "ipython",
    "version": 3
   },
   "file_extension": ".py",
   "mimetype": "text/x-python",
   "name": "python",
   "nbconvert_exporter": "python",
   "pygments_lexer": "ipython3",
   "version": "3.9.7"
  }
 },
 "nbformat": 4,
 "nbformat_minor": 5
}
