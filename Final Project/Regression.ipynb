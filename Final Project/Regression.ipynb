{
 "cells": [
  {
   "cell_type": "code",
   "execution_count": 1,
   "metadata": {},
   "outputs": [],
   "source": [
    "import pandas as pd\n",
    "from sklearn.preprocessing import LabelEncoder\n",
    "from sklearn.tree import DecisionTreeRegressor\n",
    "from sklearn.neighbors import KNeighborsRegressor\n",
    "from sklearn.ensemble import RandomForestRegressor\n",
    "from sklearn.model_selection import cross_val_score\n",
    "from sklearn.decomposition import PCA\n",
    "pd.options.mode.chained_assignment = None"
   ]
  },
  {
   "cell_type": "code",
   "execution_count": 2,
   "metadata": {},
   "outputs": [],
   "source": [
    "train_df = pd.read_csv('train.csv', index_col=0)\n",
    "test_df = pd.read_csv('test.csv', index_col=0)\n",
    "\n",
    "Y_columns = ['koi_disposition', 'koi_pdisposition', 'koi_score']\n",
    "misc_columns = ['kepid', 'kepoi_name', 'kepler_name', 'koi_tce_delivname']\n",
    "\n",
    "train_X = train_df.drop(columns=Y_columns + misc_columns)\n",
    "train_Y = train_df[Y_columns + misc_columns]\n",
    "\n",
    "test_X = test_df.drop(columns=Y_columns + misc_columns)\n",
    "test_Y = test_df[Y_columns + misc_columns]"
   ]
  },
  {
   "cell_type": "code",
   "execution_count": 3,
   "metadata": {},
   "outputs": [],
   "source": [
    "les = {}\n",
    "Y = pd.concat([train_Y, test_Y])\n",
    "for dtype, col in zip(Y.dtypes, Y.columns):\n",
    "  if dtype == 'object':\n",
    "    les[col] = LabelEncoder()\n",
    "    les[col].fit(Y[col])\n",
    "    train_Y[col] = les[col].transform(train_Y[col])\n",
    "    test_Y[col] = les[col].transform(test_Y[col])"
   ]
  },
  {
   "cell_type": "markdown",
   "metadata": {},
   "source": [
    "### PCA"
   ]
  },
  {
   "cell_type": "code",
   "execution_count": 4,
   "metadata": {},
   "outputs": [
    {
     "name": "stdout",
     "output_type": "stream",
     "text": [
      "4\n"
     ]
    }
   ],
   "source": [
    "pca = PCA()\n",
    "pca.fit(train_X)\n",
    "count = 0\n",
    "for s in pca.singular_values_:\n",
    "    if s/pca.singular_values_[0] > 0.01:\n",
    "        count += 1\n",
    "pca_trans = PCA(n_components=count)\n",
    "pca_trans.fit(train_X)\n",
    "trans_train_X = pca_trans.transform(train_X)\n",
    "trans_test_X = pca_trans.transform(test_X)\n",
    "print(count)"
   ]
  },
  {
   "cell_type": "markdown",
   "metadata": {},
   "source": [
    "### KOI Score - Disposition Score | With PCA"
   ]
  },
  {
   "cell_type": "code",
   "execution_count": 5,
   "metadata": {},
   "outputs": [
    {
     "name": "stdout",
     "output_type": "stream",
     "text": [
      "Cross Validation Score: -0.14515204460771103\n",
      "Score: -0.09048631057804091\n"
     ]
    }
   ],
   "source": [
    "m = DecisionTreeRegressor()\n",
    "cvs = cross_val_score(m, trans_train_X, train_Y['koi_score'], cv=5)\n",
    "m.fit(trans_train_X, train_Y['koi_score'])\n",
    "score = m.score(trans_test_X, test_Y['koi_score'])\n",
    "print(f'Cross Validation Score: {cvs.min()}\\nScore: {score}')"
   ]
  },
  {
   "cell_type": "code",
   "execution_count": 6,
   "metadata": {},
   "outputs": [
    {
     "name": "stdout",
     "output_type": "stream",
     "text": [
      "Cross Validation Score: 0.2787715146863131\n",
      "Score: 0.2867274295892964\n"
     ]
    }
   ],
   "source": [
    "m = KNeighborsRegressor()\n",
    "cvs = cross_val_score(m, trans_train_X, train_Y['koi_score'], cv=5)\n",
    "m.fit(trans_train_X, train_Y['koi_score'])\n",
    "score = m.score(trans_test_X, test_Y['koi_score'])\n",
    "print(f'Cross Validation Score: {cvs.min()}\\nScore: {score}')"
   ]
  },
  {
   "cell_type": "code",
   "execution_count": 7,
   "metadata": {},
   "outputs": [
    {
     "name": "stdout",
     "output_type": "stream",
     "text": [
      "Cross Validation Score: 0.3548258961353795\n",
      "Score: 0.3876047228576994\n"
     ]
    }
   ],
   "source": [
    "m = RandomForestRegressor()\n",
    "cvs = cross_val_score(m, trans_train_X, train_Y['koi_score'], cv=5)\n",
    "m.fit(trans_train_X, train_Y['koi_score'])\n",
    "score = m.score(trans_test_X, test_Y['koi_score'])\n",
    "print(f'Cross Validation Score: {cvs.min()}\\nScore: {score}')"
   ]
  },
  {
   "cell_type": "markdown",
   "metadata": {},
   "source": [
    "### KOI Score - Disposition Score | Without PCA"
   ]
  },
  {
   "cell_type": "code",
   "execution_count": 8,
   "metadata": {},
   "outputs": [
    {
     "name": "stdout",
     "output_type": "stream",
     "text": [
      "Cross Validation Score: 0.8890250672698857\n",
      "Score: 0.8971120004510029\n"
     ]
    }
   ],
   "source": [
    "m = DecisionTreeRegressor()\n",
    "cvs = cross_val_score(m, train_X, train_Y['koi_score'], cv=5)\n",
    "m.fit(train_X, train_Y['koi_score'])\n",
    "score = m.score(test_X, test_Y['koi_score'])\n",
    "print(f'Cross Validation Score: {cvs.min()}\\nScore: {score}')"
   ]
  },
  {
   "cell_type": "code",
   "execution_count": 9,
   "metadata": {},
   "outputs": [
    {
     "name": "stdout",
     "output_type": "stream",
     "text": [
      "Cross Validation Score: 0.3433131477492969\n",
      "Score: 0.379687033794619\n"
     ]
    }
   ],
   "source": [
    "m = KNeighborsRegressor()\n",
    "cvs = cross_val_score(m, train_X, train_Y['koi_score'], cv=5)\n",
    "m.fit(train_X, train_Y['koi_score'])\n",
    "score = m.score(test_X, test_Y['koi_score'])\n",
    "print(f'Cross Validation Score: {cvs.min()}\\nScore: {score}')"
   ]
  },
  {
   "cell_type": "code",
   "execution_count": 10,
   "metadata": {},
   "outputs": [
    {
     "name": "stdout",
     "output_type": "stream",
     "text": [
      "Cross Validation Score: 0.9432490507274918\n",
      "Score: 0.9547008290173025\n"
     ]
    }
   ],
   "source": [
    "m = RandomForestRegressor()\n",
    "cvs = cross_val_score(m, train_X, train_Y['koi_score'], cv=5)\n",
    "m.fit(train_X, train_Y['koi_score'])\n",
    "score = m.score(test_X, test_Y['koi_score'])\n",
    "print(f'Cross Validation Score: {cvs.min()}\\nScore: {score}')"
   ]
  }
 ],
 "metadata": {
  "interpreter": {
   "hash": "0f8cd87952bc4d263d98f1beaa42c4301d8eaf945c7ea7255e40cfc9774d6c1a"
  },
  "kernelspec": {
   "display_name": "Python 3.9.7 ('MSCS-basic')",
   "language": "python",
   "name": "python3"
  },
  "language_info": {
   "codemirror_mode": {
    "name": "ipython",
    "version": 3
   },
   "file_extension": ".py",
   "mimetype": "text/x-python",
   "name": "python",
   "nbconvert_exporter": "python",
   "pygments_lexer": "ipython3",
   "version": "3.9.7"
  },
  "orig_nbformat": 4
 },
 "nbformat": 4,
 "nbformat_minor": 2
}
