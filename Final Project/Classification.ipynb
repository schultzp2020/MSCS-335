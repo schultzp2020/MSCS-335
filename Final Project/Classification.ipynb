{
 "cells": [
  {
   "cell_type": "code",
   "execution_count": 1,
   "metadata": {},
   "outputs": [],
   "source": [
    "import pandas as pd\n",
    "from sklearn.preprocessing import LabelEncoder\n",
    "from sklearn.tree import DecisionTreeClassifier\n",
    "from sklearn.neighbors import KNeighborsClassifier\n",
    "from sklearn.ensemble import RandomForestClassifier\n",
    "from sklearn.model_selection import cross_val_score\n",
    "pd.options.mode.chained_assignment = None"
   ]
  },
  {
   "cell_type": "code",
   "execution_count": 2,
   "metadata": {},
   "outputs": [],
   "source": [
    "train_df = pd.read_csv('train.csv', index_col=0)\n",
    "test_df = pd.read_csv('test.csv', index_col=0)\n",
    "\n",
    "Y_columns = ['koi_disposition', 'koi_pdisposition', 'koi_score']\n",
    "misc_columns = ['kepid', 'kepoi_name', 'kepler_name', 'koi_tce_delivname']\n",
    "\n",
    "train_X = train_df.drop(columns=Y_columns + misc_columns)\n",
    "train_Y = train_df[Y_columns + misc_columns]\n",
    "\n",
    "test_X = test_df.drop(columns=Y_columns + misc_columns)\n",
    "test_Y = test_df[Y_columns + misc_columns]"
   ]
  },
  {
   "cell_type": "code",
   "execution_count": 3,
   "metadata": {},
   "outputs": [],
   "source": [
    "les = {}\n",
    "Y = pd.concat([train_Y, test_Y])\n",
    "for dtype, col in zip(Y.dtypes, Y.columns):\n",
    "  if dtype == 'object':\n",
    "    les[col] = LabelEncoder()\n",
    "    les[col].fit(Y[col])\n",
    "    train_Y[col] = les[col].transform(train_Y[col])\n",
    "    test_Y[col] = les[col].transform(test_Y[col])"
   ]
  },
  {
   "cell_type": "markdown",
   "metadata": {},
   "source": [
    "### KOI Disposition - Exoplanet Archive Disposition"
   ]
  },
  {
   "cell_type": "code",
   "execution_count": 4,
   "metadata": {},
   "outputs": [
    {
     "name": "stdout",
     "output_type": "stream",
     "text": [
      "Cross Validation Score: 0.8247863247863247\n",
      "Score: 0.8610968733982574\n"
     ]
    }
   ],
   "source": [
    "m = DecisionTreeClassifier()\n",
    "cvs = cross_val_score(m, train_X, train_Y['koi_disposition'], cv=5)\n",
    "m.fit(train_X, train_Y['koi_disposition'])\n",
    "score = m.score(test_X, test_Y['koi_disposition'])\n",
    "print(f'Cross Validation Score: {cvs.min()}\\nScore: {score}')"
   ]
  },
  {
   "cell_type": "code",
   "execution_count": 5,
   "metadata": {},
   "outputs": [
    {
     "name": "stdout",
     "output_type": "stream",
     "text": [
      "Cross Validation Score: 0.6259607173356105\n",
      "Score: 0.6417221937467965\n"
     ]
    }
   ],
   "source": [
    "m = KNeighborsClassifier()\n",
    "cvs = cross_val_score(m, train_X, train_Y['koi_disposition'], cv=5)\n",
    "m.fit(train_X, train_Y['koi_disposition'])\n",
    "score = m.score(test_X, test_Y['koi_disposition'])\n",
    "print(f'Cross Validation Score: {cvs.min()}\\nScore: {score}')"
   ]
  },
  {
   "cell_type": "code",
   "execution_count": 6,
   "metadata": {},
   "outputs": [
    {
     "name": "stdout",
     "output_type": "stream",
     "text": [
      "Cross Validation Score: 0.8743589743589744\n",
      "Score: 0.8913377754997437\n"
     ]
    }
   ],
   "source": [
    "m = RandomForestClassifier()\n",
    "cvs = cross_val_score(m, train_X, train_Y['koi_disposition'], cv=5)\n",
    "m.fit(train_X, train_Y['koi_disposition'])\n",
    "score = m.score(test_X, test_Y['koi_disposition'])\n",
    "print(f'Cross Validation Score: {cvs.min()}\\nScore: {score}')"
   ]
  },
  {
   "cell_type": "markdown",
   "metadata": {},
   "source": [
    "### KOI P-Disposition - Disposition Using Kepler Data"
   ]
  },
  {
   "cell_type": "code",
   "execution_count": 7,
   "metadata": {},
   "outputs": [
    {
     "name": "stdout",
     "output_type": "stream",
     "text": [
      "Cross Validation Score: 0.9897435897435898\n",
      "Score: 0.9958995386981035\n"
     ]
    }
   ],
   "source": [
    "m = DecisionTreeClassifier()\n",
    "cvs = cross_val_score(m, train_X, train_Y['koi_pdisposition'], cv=5)\n",
    "m.fit(train_X, train_Y['koi_pdisposition'])\n",
    "score = m.score(test_X, test_Y['koi_pdisposition'])\n",
    "print(f'Cross Validation Score: {cvs.min()}\\nScore: {score}')"
   ]
  },
  {
   "cell_type": "code",
   "execution_count": 8,
   "metadata": {},
   "outputs": [
    {
     "name": "stdout",
     "output_type": "stream",
     "text": [
      "Cross Validation Score: 0.7754056362083689\n",
      "Score: 0.7806253203485393\n"
     ]
    }
   ],
   "source": [
    "m = KNeighborsClassifier()\n",
    "cvs = cross_val_score(m, train_X, train_Y['koi_pdisposition'], cv=5)\n",
    "m.fit(train_X, train_Y['koi_pdisposition'])\n",
    "score = m.score(test_X, test_Y['koi_pdisposition'])\n",
    "print(f'Cross Validation Score: {cvs.min()}\\nScore: {score}')"
   ]
  },
  {
   "cell_type": "code",
   "execution_count": 9,
   "metadata": {},
   "outputs": [
    {
     "name": "stdout",
     "output_type": "stream",
     "text": [
      "Cross Validation Score: 0.9871794871794872\n",
      "Score: 0.99128651973347\n"
     ]
    }
   ],
   "source": [
    "m = RandomForestClassifier()\n",
    "cvs = cross_val_score(m, train_X, train_Y['koi_pdisposition'], cv=5)\n",
    "m.fit(train_X, train_Y['koi_pdisposition'])\n",
    "score = m.score(test_X, test_Y['koi_pdisposition'])\n",
    "print(f'Cross Validation Score: {cvs.min()}\\nScore: {score}')"
   ]
  },
  {
   "cell_type": "code",
   "execution_count": null,
   "metadata": {},
   "outputs": [],
   "source": []
  }
 ],
 "metadata": {
  "interpreter": {
   "hash": "64a7aae25fb3ddbc46a15c3a52c5f7ea4740365f1db9d650e70fbe038184f1ca"
  },
  "kernelspec": {
   "display_name": "Python 3.9.7 ('MSCS-torch')",
   "language": "python",
   "name": "python3"
  },
  "language_info": {
   "codemirror_mode": {
    "name": "ipython",
    "version": 3
   },
   "file_extension": ".py",
   "mimetype": "text/x-python",
   "name": "python",
   "nbconvert_exporter": "python",
   "pygments_lexer": "ipython3",
   "version": "3.9.7"
  },
  "orig_nbformat": 4
 },
 "nbformat": 4,
 "nbformat_minor": 2
}
